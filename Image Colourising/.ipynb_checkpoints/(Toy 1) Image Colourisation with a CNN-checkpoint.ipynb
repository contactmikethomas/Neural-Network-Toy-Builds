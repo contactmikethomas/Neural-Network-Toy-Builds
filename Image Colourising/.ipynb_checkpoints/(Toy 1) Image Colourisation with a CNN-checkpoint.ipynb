{
 "cells": [
  {
   "cell_type": "markdown",
   "metadata": {},
   "source": [
    "# Image Colourisation with Neural Networks"
   ]
  },
  {
   "cell_type": "markdown",
   "metadata": {},
   "source": [
    "This example is about automatically colourising images from greyscale sources. Details here: http://www.vision.caltech.edu/Image_Datasets/Caltech101/\n",
    "\n",
    "Citation: L. Fei-Fei, R. Fergus and P. Perona. Learning generative visual models from few training examples: an incremental Bayesian approach tested on 101 object categories. IEEE. CVPR 2004, Workshop on Generative-Model Based Vision. 2004\n",
    "\n",
    "We will be using Keras to build a convolutional neural network and colourise greyscale images\n",
    "\n",
    "As with all of the toy builds, this code will follow the same structure:  \n",
    "\n",
    "    Importing Packages\n",
    "    Preparing the Data  \n",
    "    Building the Neural Network  \n",
    "    Testing the Neural Network   "
   ]
  },
  {
   "cell_type": "markdown",
   "metadata": {},
   "source": [
    "## Importing Packages"
   ]
  },
  {
   "cell_type": "code",
   "execution_count": 5,
   "metadata": {},
   "outputs": [],
   "source": [
    "# Reading in image files\n",
    "import os\n",
    "\n",
    "# Preparing the Data\n",
    "import numpy as np \n",
    "from PIL import ImageOps, Image # Equalise the image\n",
    "from sklearn.preprocessing import LabelEncoder\n",
    "from sklearn.preprocessing import OneHotEncoder\n",
    "from sklearn.model_selection import train_test_split\n",
    "import random\n",
    "\n",
    "# Building and Testing the Network\n",
    "from __future__ import print_function\n",
    "import keras\n",
    "from keras.models import Sequential\n",
    "from keras.layers import *\n",
    "from keras.layers import Conv2D, MaxPooling2D\n",
    "from keras import backend as K"
   ]
  },
  {
   "cell_type": "markdown",
   "metadata": {},
   "source": [
    "## Preparing the Data"
   ]
  },
  {
   "cell_type": "code",
   "execution_count": 2,
   "metadata": {},
   "outputs": [],
   "source": [
    "root_path = \"/home/de-admin/Documents/github folders/Mike Thomas/Neural-Network-Toy-Builds/Image Colourising/Caltech-256\"\n",
    "\n",
    "images  = []\n",
    "for directory in os.listdir(root_path):\n",
    "    for image in os.listdir(root_path+\"/\"+directory):\n",
    "        images.append(root_path+\"/\"+directory+\"/\"+image)\n",
    "\n",
    "def process_image(image_path):\n",
    "    img_in = Image.open(image_path)\n",
    "    img_in_r = img_in.resize((300,300))\n",
    "    \n",
    "    img_equalised = ImageOps.equalize(img_in_r, mask=None)\n",
    "    img_equalised_grey = img_equalised.convert('L')\n",
    "    \n",
    "    img_final = np.array(img_equalised, dtype=np.float32)\n",
    "    img_final_grey = np.array(img_equalised_grey, dtype=np.float32)\n",
    "    \n",
    "    return img_final_grey, img_final\n",
    "\n",
    "all_colour = []\n",
    "all_greyscale = []\n",
    "\n",
    "for image in images:\n",
    "    img_final_grey, img_final = process_image(image)\n",
    "    if img_final_grey.shape == (300,300):\n",
    "        if img_final.shape == (300,300,3):         \n",
    "            all_greyscale.append(img_final_grey)\n",
    "            all_colour.append(img_final)\n",
    "\n",
    "X_train = []\n",
    "X_test = []\n",
    "y_train = []\n",
    "y_test = []\n",
    "\n",
    "for i in range(len(all_greyscale)):\n",
    "    if random.uniform(0,1) > 0.1:\n",
    "        X_train.append(all_greyscale[i])\n",
    "        y_train.append(all_colour[i])\n",
    "    else:\n",
    "        X_test.append(all_greyscale[i])\n",
    "        y_test.append(all_colour[i])\n",
    "\n",
    "X_train = np.asarray(X_train)/255\n",
    "y_train = np.asarray(y_train)/255\n",
    "X_test = np.asarray(X_test)/255\n",
    "y_test = np.asarray(y_test)/255"
   ]
  },
  {
   "cell_type": "markdown",
   "metadata": {},
   "source": [
    "## Building the Neural Network"
   ]
  },
  {
   "cell_type": "code",
   "execution_count": 3,
   "metadata": {},
   "outputs": [
    {
     "name": "stdout",
     "output_type": "stream",
     "text": [
      "x_train shape: (7890, 300, 300, 1)\n",
      "y_train shape: (7890, 300, 300, 3)\n",
      "7890 Training samples\n",
      "844 Testing samples\n"
     ]
    }
   ],
   "source": [
    "#This code is largely borrowed from Keras' MNIST example.\n",
    "\n",
    "batch_size = 32\n",
    "epochs = 2\n",
    "\n",
    "img_rows, img_cols = 300, 300\n",
    "\n",
    "x_train = X_train.reshape(X_train.shape[0], img_rows, img_cols, 1)\n",
    "x_test = X_test.reshape(X_test.shape[0], img_rows, img_cols, 1)\n",
    "input_shape = (img_rows, img_cols, 1)\n",
    "\n",
    "x_train = x_train.astype('float32')\n",
    "x_test = x_test.astype('float32')\n",
    "\n",
    "print('x_train shape:', x_train.shape)\n",
    "print('y_train shape:', y_train.shape)\n",
    "print(x_train.shape[0], 'Training samples')\n",
    "print(x_test.shape[0], 'Testing samples')"
   ]
  },
  {
   "cell_type": "code",
   "execution_count": 10,
   "metadata": {},
   "outputs": [
    {
     "name": "stdout",
     "output_type": "stream",
     "text": [
      "Train on 7890 samples, validate on 844 samples\n",
      "Epoch 1/2\n",
      "7890/7890 [==============================] - 428s 54ms/step - loss: nan - acc: 0.4473 - val_loss: nan - val_acc: 0.4435\n",
      "Epoch 2/2\n",
      "7890/7890 [==============================] - 425s 54ms/step - loss: nan - acc: 0.4481 - val_loss: nan - val_acc: 0.4435\n"
     ]
    },
    {
     "data": {
      "text/plain": [
       "<keras.callbacks.History at 0x7fcac41a8320>"
      ]
     },
     "execution_count": 10,
     "metadata": {},
     "output_type": "execute_result"
    }
   ],
   "source": [
    "model = Sequential()\n",
    "\n",
    "model.add(Dense(3, input_shape=input_shape)) # Makes the output shape (300,300,3)\n",
    "\n",
    "model.compile(loss=keras.losses.categorical_crossentropy,optimizer=keras.optimizers.Adadelta(),metrics=['accuracy'])\n",
    "\n",
    "model.fit(x_train, y_train, batch_size=batch_size, epochs=epochs, verbose=1, validation_data=(x_test, y_test))"
   ]
  },
  {
   "cell_type": "markdown",
   "metadata": {},
   "source": [
    "## Testing the Neural Network"
   ]
  },
  {
   "cell_type": "markdown",
   "metadata": {},
   "source": [
    "### Test Data Set"
   ]
  },
  {
   "cell_type": "code",
   "execution_count": 11,
   "metadata": {},
   "outputs": [
    {
     "name": "stdout",
     "output_type": "stream",
     "text": [
      "Testing on test data:\n",
      "Test loss: nan\n",
      "Test accuracy: 0.4435101642992824\n"
     ]
    }
   ],
   "source": [
    "print(\"Testing on test data:\")\n",
    "score = model.evaluate(x_test, y_test, verbose=0)\n",
    "print('Test loss:', score[0])\n",
    "print('Test accuracy:', score[1])"
   ]
  },
  {
   "cell_type": "code",
   "execution_count": null,
   "metadata": {},
   "outputs": [],
   "source": []
  }
 ],
 "metadata": {
  "kernelspec": {
   "display_name": "Python 3",
   "language": "python",
   "name": "python3"
  },
  "language_info": {
   "codemirror_mode": {
    "name": "ipython",
    "version": 3
   },
   "file_extension": ".py",
   "mimetype": "text/x-python",
   "name": "python",
   "nbconvert_exporter": "python",
   "pygments_lexer": "ipython3",
   "version": "3.6.5"
  }
 },
 "nbformat": 4,
 "nbformat_minor": 2
}
