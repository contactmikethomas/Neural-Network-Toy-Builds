{
 "cells": [
  {
   "cell_type": "markdown",
   "metadata": {},
   "source": [
    "# Image Classification with Neural Networks"
   ]
  },
  {
   "cell_type": "markdown",
   "metadata": {},
   "source": [
    "This example is the same as Toy 1, but uses the CNN architecture that Keras use for their MNIST example: https://github.com/keras-team/keras/blob/master/examples/mnist_cnn.py"
   ]
  },
  {
   "cell_type": "markdown",
   "metadata": {},
   "source": [
    "## Importing Packages"
   ]
  },
  {
   "cell_type": "code",
   "execution_count": 1,
   "metadata": {},
   "outputs": [
    {
     "name": "stderr",
     "output_type": "stream",
     "text": [
      "Using TensorFlow backend.\n"
     ]
    }
   ],
   "source": [
    "# Reading in MATLAB files\n",
    "import scipy.io \n",
    "\n",
    "# Preparing the Data\n",
    "import numpy as np \n",
    "from PIL import ImageOps, Image # Equalise the image\n",
    "from sklearn.preprocessing import LabelEncoder\n",
    "from sklearn.preprocessing import OneHotEncoder\n",
    "from sklearn.model_selection import train_test_split\n",
    "\n",
    "# Building and Testing the Network\n",
    "from __future__ import print_function\n",
    "import keras\n",
    "from keras.models import Sequential\n",
    "from keras.layers import Dense, Dropout, Flatten\n",
    "from keras.layers import Conv2D, MaxPooling2D\n",
    "from keras import backend as K"
   ]
  },
  {
   "cell_type": "markdown",
   "metadata": {},
   "source": [
    "## Preparing the Data"
   ]
  },
  {
   "cell_type": "code",
   "execution_count": 2,
   "metadata": {},
   "outputs": [],
   "source": [
    "training_input = scipy.io.loadmat('train_32x32.mat')\n",
    "\n",
    "#Process Image Data\n",
    "def process_image(image_array):\n",
    "    \n",
    "    img_in = Image.fromarray(image_array)\n",
    "    img_equalised = ImageOps.equalize(img_in, mask=None)\n",
    "    img_final = np.array(img_equalised, dtype=np.float32)\n",
    "    \n",
    "    return img_final\n",
    "\n",
    "all_images = []\n",
    "\n",
    "for i in range(73257):\n",
    "    new_image = []\n",
    "    for j in range(32):\n",
    "        new_row = []\n",
    "        for k in range(32):\n",
    "            new_row.append([training_input['X'][j][k][0][i], training_input['X'][j][k][1][i], training_input['X'][j][k][2][i]])\n",
    "        new_image.append(new_row)        \n",
    "    all_images.append(process_image(np.asarray(new_image))/255)\n",
    "    \n",
    "all_images_array = np.asarray(all_images)\n",
    "\n",
    "#Process Tags\n",
    "all_tags = []\n",
    "for i in range(73257):\n",
    "    all_tags.append(training_input['y'][i][0])\n",
    "\n",
    "all_tags_array = np.asarray(all_tags)\n",
    "\n",
    "# Label encoding tags\n",
    "label_encoder = LabelEncoder()\n",
    "integer_encoded = label_encoder.fit_transform(all_tags_array.reshape(-1))\n",
    "label_mapping = dict(zip(label_encoder.classes_, label_encoder.transform(label_encoder.classes_)))\n",
    "\n",
    "# One hot encoding\n",
    "onehot_encoder = OneHotEncoder(sparse=False)\n",
    "integer_encoded = integer_encoded.reshape(len(integer_encoded), 1)\n",
    "onehot_encoded = onehot_encoder.fit_transform(integer_encoded)\n",
    "\n",
    "X_train, X_test, y_train, y_test = train_test_split(all_images_array, onehot_encoded, test_size=0.20, random_state=42)"
   ]
  },
  {
   "cell_type": "markdown",
   "metadata": {},
   "source": [
    "## Building the Neural Network"
   ]
  },
  {
   "cell_type": "code",
   "execution_count": 3,
   "metadata": {},
   "outputs": [
    {
     "name": "stdout",
     "output_type": "stream",
     "text": [
      "x_train shape: (58605, 32, 32, 3)\n",
      "y_train shape: (58605, 10)\n",
      "58605 Training samples\n",
      "14652 Testing samples\n"
     ]
    }
   ],
   "source": [
    "#This code is largely borrowed from Keras' MNIST example.\n",
    "\n",
    "batch_size = 32\n",
    "num_classes = 10\n",
    "epochs = 15\n",
    "\n",
    "img_rows, img_cols = 32, 32\n",
    "\n",
    "x_train = X_train.reshape(X_train.shape[0], img_rows, img_cols, 3)\n",
    "x_test = X_test.reshape(X_test.shape[0], img_rows, img_cols, 3)\n",
    "input_shape = (img_rows, img_cols, 3)\n",
    "\n",
    "x_train = x_train.astype('float32')\n",
    "x_test = x_test.astype('float32')\n",
    "\n",
    "print('x_train shape:', x_train.shape)\n",
    "print('y_train shape:', y_train.shape)\n",
    "print(x_train.shape[0], 'Training samples')\n",
    "print(x_test.shape[0], 'Testing samples')"
   ]
  },
  {
   "cell_type": "code",
   "execution_count": 4,
   "metadata": {},
   "outputs": [
    {
     "name": "stdout",
     "output_type": "stream",
     "text": [
      "Train on 58605 samples, validate on 14652 samples\n",
      "Epoch 1/15\n",
      "58605/58605 [==============================] - 201s 3ms/step - loss: 0.8694 - acc: 0.7243 - val_loss: 0.5248 - val_acc: 0.8529\n",
      "Epoch 2/15\n",
      "58605/58605 [==============================] - 199s 3ms/step - loss: 0.5397 - acc: 0.8379 - val_loss: 0.4858 - val_acc: 0.8690\n",
      "Epoch 3/15\n",
      "58605/58605 [==============================] - 199s 3ms/step - loss: 0.4846 - acc: 0.8560 - val_loss: 0.3980 - val_acc: 0.8832\n",
      "Epoch 4/15\n",
      "58605/58605 [==============================] - 198s 3ms/step - loss: 0.4453 - acc: 0.8679 - val_loss: 0.3970 - val_acc: 0.8878\n",
      "Epoch 5/15\n",
      "58605/58605 [==============================] - 199s 3ms/step - loss: 0.4335 - acc: 0.8720 - val_loss: 0.3820 - val_acc: 0.8931\n",
      "Epoch 6/15\n",
      "58605/58605 [==============================] - 197s 3ms/step - loss: 0.4211 - acc: 0.8756 - val_loss: 0.3913 - val_acc: 0.8876\n",
      "Epoch 7/15\n",
      "58605/58605 [==============================] - 198s 3ms/step - loss: 0.4117 - acc: 0.8803 - val_loss: 0.3997 - val_acc: 0.8920\n",
      "Epoch 8/15\n",
      "58605/58605 [==============================] - 198s 3ms/step - loss: 0.4043 - acc: 0.8837 - val_loss: 0.6056 - val_acc: 0.8681\n",
      "Epoch 9/15\n",
      "58605/58605 [==============================] - 198s 3ms/step - loss: 0.4062 - acc: 0.8822 - val_loss: 0.3732 - val_acc: 0.8954\n",
      "Epoch 10/15\n",
      "58605/58605 [==============================] - 198s 3ms/step - loss: 0.4091 - acc: 0.8827 - val_loss: 0.5562 - val_acc: 0.8677\n",
      "Epoch 11/15\n",
      "58605/58605 [==============================] - 198s 3ms/step - loss: 0.4017 - acc: 0.8843 - val_loss: 0.3786 - val_acc: 0.8969\n",
      "Epoch 12/15\n",
      "58605/58605 [==============================] - 198s 3ms/step - loss: 0.4037 - acc: 0.8847 - val_loss: 0.3745 - val_acc: 0.8932\n",
      "Epoch 13/15\n",
      "58605/58605 [==============================] - 196s 3ms/step - loss: 0.3991 - acc: 0.8863 - val_loss: 0.3887 - val_acc: 0.8967\n",
      "Epoch 14/15\n",
      "58605/58605 [==============================] - 200s 3ms/step - loss: 0.4005 - acc: 0.8851 - val_loss: 0.4036 - val_acc: 0.8882\n",
      "Epoch 15/15\n",
      "58605/58605 [==============================] - 199s 3ms/step - loss: 0.4046 - acc: 0.8840 - val_loss: 0.4260 - val_acc: 0.8972\n"
     ]
    },
    {
     "data": {
      "text/plain": [
       "<keras.callbacks.History at 0x7f5279ef9be0>"
      ]
     },
     "execution_count": 4,
     "metadata": {},
     "output_type": "execute_result"
    }
   ],
   "source": [
    "model = Sequential()\n",
    "model.add(Conv2D(32, kernel_size=(3, 3),activation='relu',input_shape=input_shape))\n",
    "model.add(Conv2D(64, (3, 3), activation='relu'))\n",
    "model.add(MaxPooling2D(pool_size=(2, 2)))\n",
    "model.add(Dropout(0.25))\n",
    "model.add(Flatten())\n",
    "model.add(Dense(128, activation='relu'))\n",
    "model.add(Dropout(0.5))\n",
    "model.add(Dense(num_classes, activation='softmax'))\n",
    "\n",
    "model.compile(loss=keras.losses.categorical_crossentropy,optimizer=keras.optimizers.Adadelta(),metrics=['accuracy'])\n",
    "\n",
    "model.fit(x_train, y_train, batch_size=batch_size, epochs=epochs, verbose=1, validation_data=(x_test, y_test))"
   ]
  },
  {
   "cell_type": "markdown",
   "metadata": {},
   "source": [
    "## Testing the Neural Network"
   ]
  },
  {
   "cell_type": "markdown",
   "metadata": {},
   "source": [
    "### Test Data Set"
   ]
  },
  {
   "cell_type": "code",
   "execution_count": 8,
   "metadata": {},
   "outputs": [
    {
     "name": "stdout",
     "output_type": "stream",
     "text": [
      "Testing on test data:\n",
      "Test loss: 0.42600998301552256\n",
      "Test accuracy: 0.8972153972642135\n"
     ]
    }
   ],
   "source": [
    "print(\"Testing on test data:\")\n",
    "score = model.evaluate(x_test, y_test, verbose=0)\n",
    "print('Test loss:', score[0])\n",
    "print('Test accuracy:', score[1])"
   ]
  },
  {
   "cell_type": "markdown",
   "metadata": {},
   "source": [
    "### Validation Data Set"
   ]
  },
  {
   "cell_type": "code",
   "execution_count": 6,
   "metadata": {},
   "outputs": [
    {
     "name": "stdout",
     "output_type": "stream",
     "text": [
      "val_images_array shape: (26032, 32, 32, 3)\n",
      "val_onehot_encoded shape: (26032, 10)\n",
      "26032 Training samples\n"
     ]
    }
   ],
   "source": [
    "validation_input = scipy.io.loadmat('test_32x32.mat')\n",
    "\n",
    "#Process Image Data\n",
    "def process_image(image_array):\n",
    "    \n",
    "    img_in = Image.fromarray(image_array)\n",
    "    img_equalised = ImageOps.equalize(img_in, mask=None)\n",
    "    img_final = np.array(img_equalised, dtype=np.float32)\n",
    "    \n",
    "    return img_final\n",
    "\n",
    "val_images = []\n",
    "\n",
    "for i in range(26032):\n",
    "    new_image = []\n",
    "    for j in range(32):\n",
    "        new_row = []\n",
    "        for k in range(32):\n",
    "            new_row.append([validation_input['X'][j][k][0][i], validation_input['X'][j][k][1][i], validation_input['X'][j][k][2][i]])\n",
    "        new_image.append(new_row)        \n",
    "    val_images.append(process_image(np.asarray(new_image))/255)\n",
    "    \n",
    "val_images_array = np.asarray(val_images)\n",
    "\n",
    "#Process Tags\n",
    "val_tags = []\n",
    "for i in range(26032):\n",
    "    val_tags.append(validation_input['y'][i][0])\n",
    "\n",
    "val_tags_array = np.asarray(val_tags)\n",
    "\n",
    "# Label encoding tags\n",
    "val_label_encoder = LabelEncoder()\n",
    "val_integer_encoded = val_label_encoder.fit_transform(val_tags_array.reshape(-1))\n",
    "val_label_mapping = dict(zip(val_label_encoder.classes_, val_label_encoder.transform(val_label_encoder.classes_)))\n",
    "\n",
    "# One hot encoding\n",
    "val_onehot_encoder = OneHotEncoder(sparse=False)\n",
    "val_integer_encoded = val_integer_encoded.reshape(len(val_integer_encoded), 1)\n",
    "val_onehot_encoded = val_onehot_encoder.fit_transform(val_integer_encoded)\n",
    "\n",
    "#Finalise Validation Fample:\n",
    "val_images_array = val_images_array.reshape(val_images_array.shape[0], img_rows, img_cols, 3)\n",
    "val_images_array = val_images_array.astype('float32')\n",
    "\n",
    "print('val_images_array shape:', val_images_array.shape)\n",
    "print('val_onehot_encoded shape:', val_onehot_encoded.shape)\n",
    "print(val_images_array.shape[0], 'Training samples')"
   ]
  },
  {
   "cell_type": "code",
   "execution_count": 7,
   "metadata": {},
   "outputs": [
    {
     "name": "stdout",
     "output_type": "stream",
     "text": [
      "Testing on test data:\n",
      "Test loss: 0.5130677640005332\n",
      "Test accuracy: 0.8742701290719115\n"
     ]
    }
   ],
   "source": [
    "print(\"Testing on test data:\")\n",
    "score = model.evaluate(val_images_array, val_onehot_encoded, verbose=0)\n",
    "print('Test loss:', score[0])\n",
    "print('Test accuracy:', score[1])"
   ]
  }
 ],
 "metadata": {
  "kernelspec": {
   "display_name": "Python 3",
   "language": "python",
   "name": "python3"
  },
  "language_info": {
   "codemirror_mode": {
    "name": "ipython",
    "version": 3
   },
   "file_extension": ".py",
   "mimetype": "text/x-python",
   "name": "python",
   "nbconvert_exporter": "python",
   "pygments_lexer": "ipython3",
   "version": "3.6.5"
  }
 },
 "nbformat": 4,
 "nbformat_minor": 2
}
